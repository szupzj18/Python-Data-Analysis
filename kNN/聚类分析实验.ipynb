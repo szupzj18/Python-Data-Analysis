{
 "cells": [
  {
   "cell_type": "code",
   "execution_count": 1,
   "metadata": {},
   "outputs": [],
   "source": [
    "# 课堂实验 聚类分析 小demo\n"
   ]
  },
  {
   "cell_type": "code",
   "execution_count": 4,
   "metadata": {},
   "outputs": [],
   "source": [
    "import pandas as pd\n",
    "\n",
    "filedir = 'zscoredata.xls'\n",
    "data = pd.read_excel(filedir)"
   ]
  },
  {
   "cell_type": "code",
   "execution_count": 6,
   "metadata": {},
   "outputs": [],
   "source": [
    "# zscoredata文件内是还未标准化的数据\n",
    "# 咱们把它z-score\n",
    "# 我特别去查了一下z-score和之前所做的归一化有什么区别（网上经常能看到“标准化”和“归一化”的说法，而且很多人混用）\n",
    "# 我研究下来大概是这样的：\n",
    "'''\n",
    "这些归一化方法都属于“特征工程”中的方法，大致有4种：\n",
    "1. 缩放到均值为0，方差为1（ Standardization——StandardScaler() ）\n",
    "2. 缩放到0和1之间（ Standardization——MinMaxScaler() ）\n",
    "3. 缩放到-1和1之间（ Standardization——MaxAbsScaler() ）\n",
    "4. 缩放到0和1之间，保留原始数据的分布（ Normalization——Normalizer() ）\n",
    "\n",
    "实际上z-score属于第一种，第二种就是常用的Min-Max归一化，就不用太纠结“标准化”和“归一化”了 其实他们都是data preprocessing的一部分，\n",
    "是为了数据服务的，根据数据特点选择合适的就好\n",
    "\n",
    "'''\n",
    "##\n",
    "'''\n",
    "input\n",
    "\n",
    "    data  待归一化的数据DataFrame\n",
    "\n",
    "return\n",
    "\n",
    "    retData 归一化完成的数据\n",
    "\n",
    "'''\n",
    "def zscore(data):\n",
    "    meanData = data.mean(axis=0) # axis =0 表示行压缩 对每一列求值 返回一个m*1矩阵\n",
    "    standardData = data.std(axis=0) \n",
    "    retData = (data - meanData)/standardData #数据标准化\n",
    "    return retData"
   ]
  },
  {
   "cell_type": "code",
   "execution_count": 7,
   "metadata": {},
   "outputs": [
    {
     "data": {
      "text/html": [
       "<div>\n",
       "<style scoped>\n",
       "    .dataframe tbody tr th:only-of-type {\n",
       "        vertical-align: middle;\n",
       "    }\n",
       "\n",
       "    .dataframe tbody tr th {\n",
       "        vertical-align: top;\n",
       "    }\n",
       "\n",
       "    .dataframe thead th {\n",
       "        text-align: right;\n",
       "    }\n",
       "</style>\n",
       "<table border=\"1\" class=\"dataframe\">\n",
       "  <thead>\n",
       "    <tr style=\"text-align: right;\">\n",
       "      <th></th>\n",
       "      <th>L</th>\n",
       "      <th>R</th>\n",
       "      <th>F</th>\n",
       "      <th>M</th>\n",
       "      <th>C</th>\n",
       "    </tr>\n",
       "  </thead>\n",
       "  <tbody>\n",
       "    <tr>\n",
       "      <th>0</th>\n",
       "      <td>1.689882</td>\n",
       "      <td>0.140299</td>\n",
       "      <td>-0.635788</td>\n",
       "      <td>0.068794</td>\n",
       "      <td>-0.337186</td>\n",
       "    </tr>\n",
       "    <tr>\n",
       "      <th>1</th>\n",
       "      <td>1.689882</td>\n",
       "      <td>-0.322442</td>\n",
       "      <td>0.852453</td>\n",
       "      <td>0.843848</td>\n",
       "      <td>-0.553613</td>\n",
       "    </tr>\n",
       "    <tr>\n",
       "      <th>2</th>\n",
       "      <td>1.681743</td>\n",
       "      <td>-0.487707</td>\n",
       "      <td>-0.210576</td>\n",
       "      <td>0.158569</td>\n",
       "      <td>-1.094680</td>\n",
       "    </tr>\n",
       "    <tr>\n",
       "      <th>3</th>\n",
       "      <td>1.534185</td>\n",
       "      <td>-0.785184</td>\n",
       "      <td>0.002030</td>\n",
       "      <td>0.273091</td>\n",
       "      <td>-1.148787</td>\n",
       "    </tr>\n",
       "    <tr>\n",
       "      <th>4</th>\n",
       "      <td>0.890167</td>\n",
       "      <td>-0.426559</td>\n",
       "      <td>-0.635788</td>\n",
       "      <td>-0.685170</td>\n",
       "      <td>1.231909</td>\n",
       "    </tr>\n",
       "    <tr>\n",
       "      <th>...</th>\n",
       "      <td>...</td>\n",
       "      <td>...</td>\n",
       "      <td>...</td>\n",
       "      <td>...</td>\n",
       "      <td>...</td>\n",
       "    </tr>\n",
       "    <tr>\n",
       "      <th>62039</th>\n",
       "      <td>0.590805</td>\n",
       "      <td>-0.938881</td>\n",
       "      <td>1.986351</td>\n",
       "      <td>2.694820</td>\n",
       "      <td>-0.499506</td>\n",
       "    </tr>\n",
       "    <tr>\n",
       "      <th>62040</th>\n",
       "      <td>0.578774</td>\n",
       "      <td>-0.086114</td>\n",
       "      <td>0.072898</td>\n",
       "      <td>0.163414</td>\n",
       "      <td>0.366201</td>\n",
       "    </tr>\n",
       "    <tr>\n",
       "      <th>62041</th>\n",
       "      <td>0.592928</td>\n",
       "      <td>-0.796753</td>\n",
       "      <td>0.710716</td>\n",
       "      <td>1.607265</td>\n",
       "      <td>-0.932360</td>\n",
       "    </tr>\n",
       "    <tr>\n",
       "      <th>62042</th>\n",
       "      <td>0.575235</td>\n",
       "      <td>-0.211715</td>\n",
       "      <td>-0.423182</td>\n",
       "      <td>-0.187230</td>\n",
       "      <td>-0.661826</td>\n",
       "    </tr>\n",
       "    <tr>\n",
       "      <th>62043</th>\n",
       "      <td>0.529234</td>\n",
       "      <td>-0.376980</td>\n",
       "      <td>0.143767</td>\n",
       "      <td>0.616752</td>\n",
       "      <td>0.041561</td>\n",
       "    </tr>\n",
       "  </tbody>\n",
       "</table>\n",
       "<p>62044 rows × 5 columns</p>\n",
       "</div>"
      ],
      "text/plain": [
       "              L         R         F         M         C\n",
       "0      1.689882  0.140299 -0.635788  0.068794 -0.337186\n",
       "1      1.689882 -0.322442  0.852453  0.843848 -0.553613\n",
       "2      1.681743 -0.487707 -0.210576  0.158569 -1.094680\n",
       "3      1.534185 -0.785184  0.002030  0.273091 -1.148787\n",
       "4      0.890167 -0.426559 -0.635788 -0.685170  1.231909\n",
       "...         ...       ...       ...       ...       ...\n",
       "62039  0.590805 -0.938881  1.986351  2.694820 -0.499506\n",
       "62040  0.578774 -0.086114  0.072898  0.163414  0.366201\n",
       "62041  0.592928 -0.796753  0.710716  1.607265 -0.932360\n",
       "62042  0.575235 -0.211715 -0.423182 -0.187230 -0.661826\n",
       "62043  0.529234 -0.376980  0.143767  0.616752  0.041561\n",
       "\n",
       "[62044 rows x 5 columns]"
      ]
     },
     "execution_count": 7,
     "metadata": {},
     "output_type": "execute_result"
    }
   ],
   "source": [
    "# 测试一下\n",
    "\n",
    "zscore(data)\n",
    "\n",
    "# 没问题再继续 自从上次被kNN搞了之后就养成习惯了 数据分析最重要的就是数据不要错"
   ]
  },
  {
   "cell_type": "code",
   "execution_count": 37,
   "metadata": {},
   "outputs": [],
   "source": [
    "# 画图\n",
    "import matplotlib.pyplot as plt\n",
    "import numpy as np\n",
    "'''\n",
    "input:\n",
    "    \n",
    "    clusterCenters 聚类中心\n",
    "    \n",
    "'''\n",
    "def plotFigure(clusterCenters):\n",
    "    plot_data = clusterCenters\n",
    "    angles = np.linspace(0, 2*np.pi, 5, endpoint=False)\n",
    "    plot_data = np.concatenate((plot_data, plot_data[:,[0]]), axis = 1) #闭合\n",
    "    angles = np.concatenate((angles, [angles[0]])) # 闭合\n",
    "    fig = plt.figure()\n",
    "    ax = fig.add_subplot(111)\n",
    "    color = [\"blue\",\"red\",\"green\",\"yellow\",\"black\"]\n",
    "    for i in range(len(plot_data)):\n",
    "        ax.plot(angles, plot_data[i], 'o-', color = color[i], label = u'客户群'+str(i), linewidth=2) #画线\n",
    "    ax.set_rgrids(np.arange(0.01, 3.5, 0.5), np.arange(-1, 2.5, 0.5), fontproperties=\"SimHei\")#绘制同心圆 \n",
    "    ax.set_thetagrids(angles * 180/np.pi, labels, fontproperties=\"SimHei\")#在 theta 为 angles * 180/np.pi 的位置上做标记 "
   ]
  },
  {
   "cell_type": "code",
   "execution_count": 38,
   "metadata": {},
   "outputs": [],
   "source": [
    "# 导入本次实验的主角 k聚类\n",
    "from sklearn.cluster import KMeans\n",
    "\n",
    "def clusterTesting( data):\n",
    "    # 创建模型\n",
    "    kmodel = KMeans(n_clusters = 5, n_jobs = 4)\n",
    "    # 数据预处理 z-score\n",
    "    zscoredata = zscore(data)\n",
    "    # 导入z-score过后的数据 训练模型\n",
    "    kmodel.fit(zscoredata)\n",
    "    # 查看聚类中心\n",
    "    print(kmodel.cluster_centers_)\n",
    "    # 将聚类中心数据用于作图\n",
    "    plotFigure(kmodel.cluster_centers_)\n",
    "    # 查看样本类别\n",
    "    print(kmodel.labels_)\n",
    "    "
   ]
  },
  {
   "cell_type": "code",
   "execution_count": 39,
   "metadata": {},
   "outputs": [
    {
     "name": "stdout",
     "output_type": "stream",
     "text": [
      "[[ 0.09625214 -0.01424271 -0.196444   -0.19360088  2.32629181]\n",
      " [-0.70300895 -0.41199061 -0.16345779 -0.16395334 -0.23946014]\n",
      " [ 1.15216446 -0.37453233 -0.09104173 -0.09924933 -0.15051316]\n",
      " [-0.31474866  1.68355084 -0.57401906 -0.53715514 -0.16190732]\n",
      " [ 0.48330766 -0.79943435  2.48376041  2.42433932  0.30123685]]\n"
     ]
    },
    {
     "ename": "AttributeError",
     "evalue": "'AxesSubplot' object has no attribute 'set_rgrids'",
     "output_type": "error",
     "traceback": [
      "\u001b[1;31m---------------------------------------------------------------------------\u001b[0m",
      "\u001b[1;31mAttributeError\u001b[0m                            Traceback (most recent call last)",
      "\u001b[1;32m<ipython-input-39-20a31f105049>\u001b[0m in \u001b[0;36m<module>\u001b[1;34m\u001b[0m\n\u001b[0;32m      1\u001b[0m \u001b[1;32mif\u001b[0m \u001b[0m__name__\u001b[0m \u001b[1;33m==\u001b[0m \u001b[1;34m\"__main__\"\u001b[0m\u001b[1;33m:\u001b[0m\u001b[1;33m\u001b[0m\u001b[1;33m\u001b[0m\u001b[0m\n\u001b[1;32m----> 2\u001b[1;33m     \u001b[0mclusterTesting\u001b[0m\u001b[1;33m(\u001b[0m\u001b[0mdata\u001b[0m\u001b[1;33m)\u001b[0m\u001b[1;33m\u001b[0m\u001b[1;33m\u001b[0m\u001b[0m\n\u001b[0m",
      "\u001b[1;32m<ipython-input-38-3977b6cfe0aa>\u001b[0m in \u001b[0;36mclusterTesting\u001b[1;34m(data)\u001b[0m\n\u001b[0;32m     12\u001b[0m     \u001b[0mprint\u001b[0m\u001b[1;33m(\u001b[0m\u001b[0mkmodel\u001b[0m\u001b[1;33m.\u001b[0m\u001b[0mcluster_centers_\u001b[0m\u001b[1;33m)\u001b[0m\u001b[1;33m\u001b[0m\u001b[1;33m\u001b[0m\u001b[0m\n\u001b[0;32m     13\u001b[0m     \u001b[1;31m# 将聚类中心数据用于作图\u001b[0m\u001b[1;33m\u001b[0m\u001b[1;33m\u001b[0m\u001b[1;33m\u001b[0m\u001b[0m\n\u001b[1;32m---> 14\u001b[1;33m     \u001b[0mplotFigure\u001b[0m\u001b[1;33m(\u001b[0m\u001b[0mkmodel\u001b[0m\u001b[1;33m.\u001b[0m\u001b[0mcluster_centers_\u001b[0m\u001b[1;33m)\u001b[0m\u001b[1;33m\u001b[0m\u001b[1;33m\u001b[0m\u001b[0m\n\u001b[0m\u001b[0;32m     15\u001b[0m     \u001b[1;31m# 查看样本类别\u001b[0m\u001b[1;33m\u001b[0m\u001b[1;33m\u001b[0m\u001b[1;33m\u001b[0m\u001b[0m\n\u001b[0;32m     16\u001b[0m     \u001b[0mprint\u001b[0m\u001b[1;33m(\u001b[0m\u001b[0mkmodel\u001b[0m\u001b[1;33m.\u001b[0m\u001b[0mlabels_\u001b[0m\u001b[1;33m)\u001b[0m\u001b[1;33m\u001b[0m\u001b[1;33m\u001b[0m\u001b[0m\n",
      "\u001b[1;32m<ipython-input-37-c02d72d75188>\u001b[0m in \u001b[0;36mplotFigure\u001b[1;34m(clusterCenters)\u001b[0m\n\u001b[0;32m     18\u001b[0m     \u001b[1;32mfor\u001b[0m \u001b[0mi\u001b[0m \u001b[1;32min\u001b[0m \u001b[0mrange\u001b[0m\u001b[1;33m(\u001b[0m\u001b[0mlen\u001b[0m\u001b[1;33m(\u001b[0m\u001b[0mplot_data\u001b[0m\u001b[1;33m)\u001b[0m\u001b[1;33m)\u001b[0m\u001b[1;33m:\u001b[0m\u001b[1;33m\u001b[0m\u001b[1;33m\u001b[0m\u001b[0m\n\u001b[0;32m     19\u001b[0m         \u001b[0max\u001b[0m\u001b[1;33m.\u001b[0m\u001b[0mplot\u001b[0m\u001b[1;33m(\u001b[0m\u001b[0mangles\u001b[0m\u001b[1;33m,\u001b[0m \u001b[0mplot_data\u001b[0m\u001b[1;33m[\u001b[0m\u001b[0mi\u001b[0m\u001b[1;33m]\u001b[0m\u001b[1;33m,\u001b[0m \u001b[1;34m'o-'\u001b[0m\u001b[1;33m,\u001b[0m \u001b[0mcolor\u001b[0m \u001b[1;33m=\u001b[0m \u001b[0mcolor\u001b[0m\u001b[1;33m[\u001b[0m\u001b[0mi\u001b[0m\u001b[1;33m]\u001b[0m\u001b[1;33m,\u001b[0m \u001b[0mlabel\u001b[0m \u001b[1;33m=\u001b[0m \u001b[1;34mu'客户群'\u001b[0m\u001b[1;33m+\u001b[0m\u001b[0mstr\u001b[0m\u001b[1;33m(\u001b[0m\u001b[0mi\u001b[0m\u001b[1;33m)\u001b[0m\u001b[1;33m,\u001b[0m \u001b[0mlinewidth\u001b[0m\u001b[1;33m=\u001b[0m\u001b[1;36m2\u001b[0m\u001b[1;33m)\u001b[0m \u001b[1;31m#画线\u001b[0m\u001b[1;33m\u001b[0m\u001b[1;33m\u001b[0m\u001b[0m\n\u001b[1;32m---> 20\u001b[1;33m     \u001b[0max\u001b[0m\u001b[1;33m.\u001b[0m\u001b[0mset_rgrids\u001b[0m\u001b[1;33m(\u001b[0m\u001b[0mnp\u001b[0m\u001b[1;33m.\u001b[0m\u001b[0marange\u001b[0m\u001b[1;33m(\u001b[0m\u001b[1;36m0.01\u001b[0m\u001b[1;33m,\u001b[0m \u001b[1;36m3.5\u001b[0m\u001b[1;33m,\u001b[0m \u001b[1;36m0.5\u001b[0m\u001b[1;33m)\u001b[0m\u001b[1;33m,\u001b[0m \u001b[0mnp\u001b[0m\u001b[1;33m.\u001b[0m\u001b[0marange\u001b[0m\u001b[1;33m(\u001b[0m\u001b[1;33m-\u001b[0m\u001b[1;36m1\u001b[0m\u001b[1;33m,\u001b[0m \u001b[1;36m2.5\u001b[0m\u001b[1;33m,\u001b[0m \u001b[1;36m0.5\u001b[0m\u001b[1;33m)\u001b[0m\u001b[1;33m,\u001b[0m \u001b[0mfontproperties\u001b[0m\u001b[1;33m=\u001b[0m\u001b[1;34m\"SimHei\"\u001b[0m\u001b[1;33m)\u001b[0m\u001b[1;31m#绘制同心圆\u001b[0m\u001b[1;33m\u001b[0m\u001b[1;33m\u001b[0m\u001b[0m\n\u001b[0m\u001b[0;32m     21\u001b[0m     \u001b[0max\u001b[0m\u001b[1;33m.\u001b[0m\u001b[0mset_thetagrids\u001b[0m\u001b[1;33m(\u001b[0m\u001b[0mangles\u001b[0m \u001b[1;33m*\u001b[0m \u001b[1;36m180\u001b[0m\u001b[1;33m/\u001b[0m\u001b[0mnp\u001b[0m\u001b[1;33m.\u001b[0m\u001b[0mpi\u001b[0m\u001b[1;33m,\u001b[0m \u001b[0mlabels\u001b[0m\u001b[1;33m,\u001b[0m \u001b[0mfontproperties\u001b[0m\u001b[1;33m=\u001b[0m\u001b[1;34m\"SimHei\"\u001b[0m\u001b[1;33m)\u001b[0m\u001b[1;31m#在 theta 为 angles * 180/np.pi 的位置上做标记\u001b[0m\u001b[1;33m\u001b[0m\u001b[1;33m\u001b[0m\u001b[0m\n",
      "\u001b[1;31mAttributeError\u001b[0m: 'AxesSubplot' object has no attribute 'set_rgrids'"
     ]
    },
    {
     "data": {
      "image/png": "[encoded data removed]",
      "text/plain": [
       "<Figure size 432x288 with 1 Axes>"
      ]
     },
     "metadata": {
      "needs_background": "light"
     },
     "output_type": "display_data"
    }
   ],
   "source": [
    "if __name__ == \"__main__\":\n",
    "    clusterTesting(data)"
   ]
  },
  {
   "cell_type": "code",
   "execution_count": null,
   "metadata": {},
   "outputs": [],
   "source": []
  }
 ],
 "metadata": {
  "kernelspec": {
   "display_name": "Python 3",
   "language": "python",
   "name": "python3"
  },
  "language_info": {
   "codemirror_mode": {
    "name": "ipython",
    "version": 3
   },
   "file_extension": ".py",
   "mimetype": "text/x-python",
   "name": "python",
   "nbconvert_exporter": "python",
   "pygments_lexer": "ipython3",
   "version": "3.7.1"
  }
 },
 "nbformat": 4,
 "nbformat_minor": 4
}
