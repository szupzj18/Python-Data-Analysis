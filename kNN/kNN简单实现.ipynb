{
 "cells": [
  {
   "cell_type": "code",
   "execution_count": 1,
   "metadata": {},
   "outputs": [
    {
     "data": {
      "text/plain": [
       "'\\nkNN算法简单实践\\n\\n来自机器学习实战\\n\\nauthor: chris pan\\n\\n'"
      ]
     },
     "execution_count": 1,
     "metadata": {},
     "output_type": "execute_result"
    }
   ],
   "source": [
    "import numpy as np\n",
    "import operator\n",
    "import collections\n",
    "'''\n",
    "kNN算法简单实践\n",
    "\n",
    "来自机器学习实战 人民邮电出版社 2013.6版\n",
    "\n",
    "author: chris pan\n",
    "\n",
    "'''"
   ]
  },
  {
   "cell_type": "code",
   "execution_count": 2,
   "metadata": {},
   "outputs": [],
   "source": [
    "def createDataSet():\n",
    "    group = np.array([[1,101],[5,89],[115,8]])\n",
    "    labels = ['爱情片','爱情片','动作片','动作片']\n",
    "    return group,labels\n"
   ]
  },
  {
   "cell_type": "code",
   "execution_count": 25,
   "metadata": {},
   "outputs": [],
   "source": [
    "'''\n",
    "classify0 分类器\n",
    "\n",
    "参数列表\n",
    " inX 用于分类的输入数据（测试集）\n",
    " dataSet 训练样本（训练集）\n",
    " label 分类标签\n",
    " k 参数，选择最小距离的k个点\n",
    "\n",
    "'''\n",
    "def classify0(inX, dataSet, labels, k):\n",
    "    dist = np.sum((inX-dataSet)**2,axis=1)**0.5 #计算距离\n",
    "    k_labels = [labels[index] for index in dist.argsort()[0:k]]\n",
    "    # 出现次数最多的即为分类类别\n",
    "    label = collections.Counter(k_labels).most_common(1)[0][0]\n",
    "    return label\n",
    "\n",
    "'''\n",
    "classify1 分类器\n",
    "\n",
    "来自《机器学习实战》书本上的kNN源码\n",
    "\n",
    "'''\n",
    "def classify1(inX,dataSet,labels,k):\n",
    "    dataSetSize = dataSet.shape[0]\n",
    "    diffMat = np.tile(inX, (dataSetSize,1))-dataSet\n",
    "    sqDiffMat = diffMat**2\n",
    "    sqDistances=sqDiffMat.sum(axis=1)\n",
    "    distances=sqDistances**0.5\n",
    "    sortedDistences=distances.argsort()\n",
    "    classCount={}\n",
    "    for i in range(k):\n",
    "        voteIlabel=labels[sortedDistences[i]]\n",
    "        classCount[voteIlabel]=classCount.get(voteIlabel,0)+1\n",
    "    sortedClassCount=sorted(classCount.items(),\n",
    "                           key=operator.itemgetter(1), reverse=True)\n",
    "    return sortedClassCount[0][0]"
   ]
  },
  {
   "cell_type": "code",
   "execution_count": 28,
   "metadata": {},
   "outputs": [
    {
     "name": "stdout",
     "output_type": "stream",
     "text": [
      "爱情片\n"
     ]
    }
   ],
   "source": [
    "if __name__ == '__main__':\n",
    "    #创建数据集\n",
    "    group, labels = createDataSet()\n",
    "    test = [5,89] # 简单测试\n",
    "    test_class = classify0(test, group, labels, 3)\n",
    "    print(test_class)"
   ]
  },
  {
   "cell_type": "code",
   "execution_count": 29,
   "metadata": {},
   "outputs": [
    {
     "data": {
      "text/plain": [
       "'\\nref:\\n知乎专栏\\nhttps://zhuanlan.zhihu.com/p/34296680\\n\\n'"
      ]
     },
     "execution_count": 29,
     "metadata": {},
     "output_type": "execute_result"
    }
   ],
   "source": [
    "'''\n",
    "ref:\n",
    "知乎专栏\n",
    "https://zhuanlan.zhihu.com/p/34296680\n",
    "\n",
    "'''"
   ]
  }
 ],
 "metadata": {
  "kernelspec": {
   "display_name": "Python 3",
   "language": "python",
   "name": "python3"
  },
  "language_info": {
   "codemirror_mode": {
    "name": "ipython",
    "version": 3
   },
   "file_extension": ".py",
   "mimetype": "text/x-python",
   "name": "python",
   "nbconvert_exporter": "python",
   "pygments_lexer": "ipython3",
   "version": "3.7.1"
  }
 },
 "nbformat": 4,
 "nbformat_minor": 4
}
